{
  "cells": [
    {
      "cell_type": "markdown",
      "metadata": {
        "id": "QfYvI-_yE10I"
      },
      "source": [
        "# Practical Python Programming for Biologists\n",
        "Author: Dr. Daniel Pass | www.CompassBioinformatics.com\n",
        "\n",
        "---"
      ]
    },
    {
      "cell_type": "markdown",
      "metadata": {
        "id": "chQY6saIQI0B"
      },
      "source": [
        "# More Data formats\n",
        "\n",
        "So far we've just looked at singe pieces of data (as individual numbers, strings of text, or True/False values). However the real power comes from collections of data in lists, tuples, and dictionaries."
      ]
    },
    {
      "cell_type": "markdown",
      "metadata": {
        "id": "O3dpWcuaRuhi"
      },
      "source": [
        "# Lists\n",
        "\n",
        "A list is a collection of items that are ordered and changeable. Lists are one of the most commonly used data structures in Python and are used to store a collection of related values.\n",
        "\n",
        "To create a list in Python, we simply use square brackets and separate the items in the list with commas:"
      ]
    },
    {
      "cell_type": "code",
      "execution_count": null,
      "metadata": {
        "id": "ehgMJYEoSVFS"
      },
      "outputs": [],
      "source": [
        "# Create a list of DNA bases\n",
        "bases = ['A', 'T', 'G', 'C', 'G', 'C', 'G', 'A', 'T']\n",
        "\n",
        "print(bases)"
      ]
    },
    {
      "cell_type": "markdown",
      "metadata": {
        "id": "uE0oQ8hHSZXh"
      },
      "source": [
        "Because they are stored in order we can access individual elements in a list by using their index. Indexes always start at 0, so the first element in the list has an index of 0, the second element has an index of 1, and so on.\n",
        "\n",
        "When selecting multiple elements the index must be inclusive of the last element to be included. Note that it will return a list too, not just the elements you ask for."
      ]
    },
    {
      "cell_type": "code",
      "execution_count": null,
      "metadata": {
        "id": "kJbgZbocSaCh"
      },
      "outputs": [],
      "source": [
        "# Access the first element in the list\n",
        "print(bases[0])"
      ]
    },
    {
      "cell_type": "code",
      "execution_count": null,
      "metadata": {
        "id": "tNKCKqFSSdtC"
      },
      "outputs": [],
      "source": [
        "# Access the second, third, fourth & fifth element in the list\n",
        "print(bases[1:5])"
      ]
    },
    {
      "cell_type": "markdown",
      "metadata": {
        "id": "gPj0xqF4SdtD"
      },
      "source": [
        "There are also some useful shortuts, for example if you leave one value empty it will assume start/end of the list. You can also use the minus ```-``` character to start from the end of the list."
      ]
    },
    {
      "cell_type": "code",
      "execution_count": null,
      "metadata": {
        "id": "6Xs8b_izSdtD"
      },
      "outputs": [],
      "source": [
        "\n",
        "# Access from the fourth to the end of the list\n",
        "print(bases[3:])\n",
        "\n",
        "# Access the last element in the list\n",
        "print(bases[-1])\n",
        "\n",
        "print(bases[3] + bases[7] + bases[8])\n"
      ]
    },
    {
      "cell_type": "markdown",
      "metadata": {
        "id": "qUzHxzDnSdtD"
      },
      "source": [
        "**Exercise:** Print the 4th, 8th, & 9th elements\n",
        "\n",
        "**Extension Exercise:** Do it all in one line!"
      ]
    },
    {
      "cell_type": "markdown",
      "metadata": {
        "id": "oSPe3R8TSdtD"
      },
      "source": [
        "Also note that lists don't have to be all one data type! You can even have lists of lists!\n",
        "\n",
        "It can be useful, or it can get confusing."
      ]
    },
    {
      "cell_type": "code",
      "execution_count": null,
      "metadata": {
        "colab": {
          "base_uri": "https://localhost:8080/"
        },
        "id": "ASZCzw8fSdtE",
        "outputId": "cc2a1cb8-0cec-43ef-fa5c-0bef814512d7"
      },
      "outputs": [
        {
          "output_type": "stream",
          "name": "stdout",
          "text": [
            "<class 'int'>\n",
            "<class 'int'>\n",
            "<class 'str'>\n",
            "<class 'float'>\n",
            "<class 'str'>\n",
            "<class 'list'>\n",
            "<class 'int'>\n",
            "<class 'float'>\n"
          ]
        }
      ],
      "source": [
        "scoring_data = [97, 85, \"above average\", 75.5, \"Missing data\", [85, 25, 76], 48, 0.97]\n",
        "\n",
        "# print type for each - We'll look more at how this works later\n",
        "for each in scoring_data: print(type(each))"
      ]
    },
    {
      "cell_type": "markdown",
      "metadata": {
        "id": "DIuyHBqUSw1r"
      },
      "source": [
        "#### Manipulating lists\n",
        "\n",
        "Once you have data in your list, you can easily replace individual elements, or add, remove, insert etc."
      ]
    },
    {
      "cell_type": "code",
      "execution_count": null,
      "metadata": {
        "colab": {
          "base_uri": "https://localhost:8080/"
        },
        "id": "5PSpVqG6TBOD",
        "outputId": "9f054efb-1fbe-468e-c692-eb4b44917798"
      },
      "outputs": [
        {
          "output_type": "stream",
          "name": "stdout",
          "text": [
            "['A', 'T', 'N', 'C', 'G', 'C', 'G', 'A', 'T']\n"
          ]
        }
      ],
      "source": [
        "# Modify the third element in the list\n",
        "bases[2] = 'N'\n",
        "\n",
        "print(bases)"
      ]
    },
    {
      "cell_type": "code",
      "execution_count": null,
      "metadata": {
        "colab": {
          "base_uri": "https://localhost:8080/"
        },
        "id": "Yf8dU5JSS7LS",
        "outputId": "ba14515b-ce09-4b14-a780-962a52c99b3e"
      },
      "outputs": [
        {
          "output_type": "stream",
          "name": "stdout",
          "text": [
            "['A', 'T', 'C', 'N', 'G', 'C', 'G', 'A', 'T', 'U', 'U', 'A', 'T']\n",
            "['A', 'T', 'C', 'N', 'N', 'G', 'C', 'G', 'A', 'T', 'U', 'U', 'A', 'T']\n",
            "['A', 'T', 'C', 'N', 'G', 'C', 'G', 'A', 'T', 'U', 'U', 'A', 'T']\n"
          ]
        }
      ],
      "source": [
        "# Add an element to the end of the list\n",
        "bases.append('U')\n",
        "\n",
        "#Adding multiple bases to the list\n",
        "\n",
        "bases.extend(['A', 'T'])\n",
        "\n",
        "print(bases)\n",
        "\n",
        "# Insert an element at a specific index\n",
        "bases.insert(4, 'N')\n",
        "\n",
        "print(bases)\n",
        "\n",
        "# Remove an element from the list - only the first instance!\n",
        "bases.remove('N')\n",
        "print(bases)"
      ]
    },
    {
      "cell_type": "markdown",
      "metadata": {
        "id": "E4fjTbctuGBg"
      },
      "source": [
        "The ```.pop``` method is useful as it both takes the last element (by default) and removes it:"
      ]
    },
    {
      "cell_type": "code",
      "execution_count": null,
      "metadata": {
        "id": "z2eb7ewqThj7"
      },
      "outputs": [],
      "source": [
        "# A list of sites we still have to process\n",
        "sites = [\"CDF\", \"BRI\", \"LDN\", \"SWN\", \"EXT\"]\n",
        "\n",
        "# Remove the last element from the list (and discard it)\n",
        "print(sites)\n",
        "sites.pop()\n",
        "print(sites)"
      ]
    },
    {
      "cell_type": "markdown",
      "metadata": {
        "id": "wNQHyEcESdtF"
      },
      "source": [
        "Instead of discarding the \"popped\" value, it can also put it into a new variable."
      ]
    },
    {
      "cell_type": "code",
      "execution_count": null,
      "metadata": {
        "colab": {
          "base_uri": "https://localhost:8080/"
        },
        "id": "GSN9Bf31SdtF",
        "outputId": "722f0ef5-8737-4361-d3af-98fb958d75ae"
      },
      "outputs": [
        {
          "output_type": "stream",
          "name": "stdout",
          "text": [
            "The most recent site was EXT\n",
            "Remaining sites to be processed are: ['CDF', 'BRI', 'LDN', 'SWN']\n"
          ]
        }
      ],
      "source": [
        "# A list of sites we still have to process\n",
        "sites = [\"CDF\", \"BRI\", \"LDN\", \"SWN\", \"EXT\"]\n",
        "\n",
        "last_site = sites.pop()\n",
        "print(\"The most recent site was\", last_site)\n",
        "print(\"Remaining sites to be processed are:\", sites)"
      ]
    },
    {
      "cell_type": "markdown",
      "metadata": {
        "id": "c8MCVGU_SdtF"
      },
      "source": [
        "We can also pop based on the index, i.e. the first or second:"
      ]
    },
    {
      "cell_type": "code",
      "execution_count": null,
      "metadata": {
        "colab": {
          "base_uri": "https://localhost:8080/"
        },
        "id": "upGiVBdjSdtF",
        "outputId": "5aa98a5f-40a6-407c-ef6a-fc96235d8973"
      },
      "outputs": [
        {
          "output_type": "stream",
          "name": "stdout",
          "text": [
            "BRI\n",
            "['CDF', 'LDN', 'SWN']\n"
          ]
        }
      ],
      "source": [
        "second_site = sites.pop(1)\n",
        "print(second_site)\n",
        "print(sites)"
      ]
    },
    {
      "cell_type": "markdown",
      "metadata": {
        "id": "gifoOdsgSdtF"
      },
      "source": [
        "A really common requirement in a list is sorting. Maybe not too useful with just a list of numbers but with annotated information that we'll see in 2D lists later it can be useful.\n",
        "\n",
        "There's both a ```.sort()``` method, and the ```sorted()``` function. The ```.sort()``` method changes the list you already have, however ```sorted(list)``` will create a new list."
      ]
    },
    {
      "cell_type": "code",
      "execution_count": null,
      "metadata": {
        "colab": {
          "base_uri": "https://localhost:8080/"
        },
        "id": "SarzjwhfSdtF",
        "outputId": "1fbfb612-bf29-4888-8c8b-9cb87b9d95db"
      },
      "outputs": [
        {
          "output_type": "stream",
          "name": "stdout",
          "text": [
            "original list: [25, 28, 14, 76, 58, 31, 56, 91, 24, 86, 0, 25]\n",
            "original list: [25, 28, 14, 76, 58, 31, 56, 91, 24, 86, 0, 25]\n",
            "sorted list:   [0, 14, 24, 25, 25, 28, 31, 56, 58, 76, 86, 91]\n",
            "original list: [0, 14, 24, 25, 25, 28, 31, 56, 58, 76, 86, 91]\n"
          ]
        }
      ],
      "source": [
        "leafCoverPercentage = [25, 28, 14, 76, 58, 31, 56, 91, 24, 86, 0, 25]\n",
        "print(\"original list:\", leafCoverPercentage)\n",
        "\n",
        "sorted_leafCoverPercentage = sorted(leafCoverPercentage)\n",
        "print(\"original list:\", leafCoverPercentage)\n",
        "print(\"sorted list:  \", sorted_leafCoverPercentage)\n",
        "\n",
        "leafCoverPercentage.sort()\n",
        "print(\"original list:\", leafCoverPercentage)"
      ]
    },
    {
      "cell_type": "markdown",
      "metadata": {
        "id": "_noxi2Life1X"
      },
      "source": [
        "**Building lists**\n",
        "\n",
        "In addidtion to writing your lists out, you can also add mulptiple elements on at the same time, or combine lists easily:"
      ]
    },
    {
      "cell_type": "code",
      "execution_count": null,
      "metadata": {
        "colab": {
          "base_uri": "https://localhost:8080/"
        },
        "id": "bNS7-RlQflWW",
        "outputId": "b651db81-96b3-4642-b002-ff52dfa43919"
      },
      "outputs": [
        {
          "output_type": "stream",
          "name": "stdout",
          "text": [
            "['BRCA1', 'TP53', 'EGFR', 'KRAS', 'MET1', 'ROS']\n"
          ]
        }
      ],
      "source": [
        "confirmed_genes = ['BRCA1', 'TP53', 'EGFR', 'KRAS']\n",
        "suggested_target_genes = ['MET1', 'ROS']\n",
        "\n",
        "all_genes = confirmed_genes + suggested_target_genes\n",
        "\n",
        "print(all_genes)"
      ]
    },
    {
      "cell_type": "code",
      "execution_count": null,
      "metadata": {
        "colab": {
          "base_uri": "https://localhost:8080/"
        },
        "id": "usZPx6m-SdtF",
        "outputId": "4ca98118-8657-41e2-9fca-0e673ad984c5"
      },
      "outputs": [
        {
          "output_type": "stream",
          "name": "stdout",
          "text": [
            "['BRCA1', 'TP53', 'EGFR', 'KRAS', 'MET1', 'ROS']\n"
          ]
        }
      ],
      "source": [
        "all_genes + ['ABC13']\n",
        "\n",
        "print(all_genes)"
      ]
    },
    {
      "cell_type": "markdown",
      "metadata": {
        "id": "-KlsVZIqEJT5"
      },
      "source": [
        "## Exercise - BugFix\n",
        "\n",
        "Try to find and correct the issues in the code block:"
      ]
    },
    {
      "cell_type": "code",
      "execution_count": null,
      "metadata": {
        "colab": {
          "base_uri": "https://localhost:8080/"
        },
        "id": "_pq0YNuNEIjQ",
        "outputId": "e611770a-2de9-4cd0-8b9f-7083b2387415"
      },
      "outputs": [
        {
          "output_type": "stream",
          "name": "stdout",
          "text": [
            "G\n",
            "['C', 'A', 'T', 'G', 'C', 'G', 'T', 'A', 'T', 'A', 'T', 'C', 'A', 'T', 'C', 'G']\n"
          ]
        }
      ],
      "source": [
        "# Our gene insert as a list of bases\n",
        "my_insert = ['C', 'A', 'T', 'G', 'C', 'G', 'T', 'A', 'T', 'A', 'T', 'N', 'N', 'C', 'A', 'T', 'C', 'G']\n",
        "\n",
        "# Get last base\n",
        "region_length = (len(my_insert) - 1)\n",
        "last_base = my_insert[region_length]\n",
        "\n",
        "print(last_base)\n",
        "\n",
        "# Remove all N's\n",
        "while str(my_insert).count(\"N\") > 0:\n",
        "    my_insert.remove(\"N\")\n",
        "\n",
        "print(my_insert)"
      ]
    },
    {
      "cell_type": "markdown",
      "metadata": {
        "id": "79lEj84kGhPC"
      },
      "source": [
        "### Exercise - Manipulating lists\n",
        "\n",
        "We know that the restriction enzyme **DANase** always cuts 9bp after end of the start codon. We want to create two lists. One for the sequence before the cutsite, and one for the remaining part of the sequence and print them out.\n",
        "\n",
        "1. Complete this code. Using numerical slicing, cut the string 9 bases ***after*** the ATG."
      ]
    },
    {
      "cell_type": "code",
      "execution_count": null,
      "metadata": {
        "id": "CWFQfEMEGA66",
        "colab": {
          "base_uri": "https://localhost:8080/"
        },
        "outputId": "90924153-cfb2-4b8d-e5ad-63f36e427a63"
      },
      "outputs": [
        {
          "output_type": "stream",
          "name": "stdout",
          "text": [
            "['A', 'T', 'G', 'C', 'C', 'G', 'C', 'G', 'G', 'C', 'A', 'T']\n",
            "['G', 'G', 'A', 'C', 'G', 'C', 'G', 'T', 'A', 'T', 'A', 'T', 'G', 'C', 'C', 'A', 'T', 'C', 'G']\n"
          ]
        }
      ],
      "source": [
        "# Our gene as a list of bases\n",
        "my_gene = ['A', 'T', 'G', 'C', 'C', 'G', 'C', 'G', 'G', 'C', 'A', 'T', 'G', 'G', 'A', 'C', 'G', 'C', 'G', 'T', 'A', 'T', 'A', 'T', 'G', 'C', 'C', 'A', 'T', 'C', 'G']\n",
        "\n",
        "# Expected cut site: CAT|GCA\n",
        "first_part = my_gene[:12]\n",
        "second_part = my_gene[12:]\n",
        "\n",
        "print(first_part)\n",
        "print(second_part)"
      ]
    },
    {
      "cell_type": "markdown",
      "metadata": {
        "id": "hgm8BqzDKZJ7"
      },
      "source": [
        "**Lists into strings**\n",
        "\n",
        "We can use the .join() method to join all the elements in a list into a string and to make it easier for reading. The part between the single quotes is what will be between each element. It is a slightly odd format (because it is a string method, not a list method), but can be useful.\n",
        "\n",
        "We can make an easily readable output highlighing the restriction cut in our sequence so that it looks like:\n",
        "```...ATCG-CGAT...```\n"
      ]
    },
    {
      "cell_type": "code",
      "execution_count": null,
      "metadata": {
        "id": "sQHED2-PKk9S",
        "colab": {
          "base_uri": "https://localhost:8080/"
        },
        "outputId": "b8d6e0ee-5252-43bc-a57c-10e128ef96e4"
      },
      "outputs": [
        {
          "output_type": "stream",
          "name": "stdout",
          "text": [
            "ATGCCGCGGCAT-GGACGCGTATATGCCATCG\n"
          ]
        }
      ],
      "source": [
        "# Join our strings, with a hyphen at the cut site\n",
        "print(''.join(first_part) + \"-\" + ''.join(second_part))"
      ]
    },
    {
      "cell_type": "markdown",
      "metadata": {
        "id": "RGWx6mFXUBQ6"
      },
      "source": [
        "---\n",
        "\n",
        "## Tuples\n",
        "A tuple is a collection of \"ordered and immutable\" elements. Basically they are similar to lists, but **once a tuple is created, its elements cannot be changed**.\n",
        "\n",
        "Because they won't be sorted, elonogated or shortened, Tuples are often used to store related values that are constant and do not change. A classic example would be genomic co-ordinates. Because they are immutable they are also more memory-efficient and faster to access and process than lists.\n",
        "\n",
        "Tuples are differentiated from lists by using round brackets ```( )``` (parentheses) instead.\n",
        "\n",
        "Because we define a specific format we can access elements by name as they will always be in the same position:"
      ]
    },
    {
      "cell_type": "code",
      "execution_count": null,
      "metadata": {
        "colab": {
          "base_uri": "https://localhost:8080/"
        },
        "id": "32i4KcYAUwb5",
        "outputId": "41e30855-6532-4549-bd43-8b14ed1c326a"
      },
      "outputs": [
        {
          "output_type": "stream",
          "name": "stdout",
          "text": [
            "TFBS01\n",
            "1500\n",
            "1700\n"
          ]
        }
      ],
      "source": [
        "# Define a genomic coordinate as a tuple\n",
        "TFBS_coords = ('TFBS01', 1500, 1700)\n",
        "\n",
        "# Print the chromosome name\n",
        "print(TFBS_coords[0])\n",
        "\n",
        "# Print the start position\n",
        "print(TFBS_coords[1])\n",
        "\n",
        "# Print the end position\n",
        "print(TFBS_coords[2])\n"
      ]
    },
    {
      "cell_type": "markdown",
      "metadata": {
        "id": "TyArylsGQ919"
      },
      "source": [
        "Because of the fixed order of tuples there is also a very useful function to quickly assign the values to variables.\n",
        "\n",
        "We know the exact length and order of the tuple elements so we can assign them together on one line:"
      ]
    },
    {
      "cell_type": "code",
      "execution_count": null,
      "metadata": {
        "colab": {
          "base_uri": "https://localhost:8080/"
        },
        "id": "qakt6KEOQ9gu",
        "outputId": "225394ad-b17d-409b-ec59-f27a311d38b0"
      },
      "outputs": [
        {
          "output_type": "stream",
          "name": "stdout",
          "text": [
            "ID:    TFBS01\n",
            "Start: 1500\n",
            "End:   1700\n",
            "BED format output: TFBS01:1500-1700\n"
          ]
        }
      ],
      "source": [
        "# Assign our three value tuple, to three new variable names\n",
        "id, start, end = TFBS_coords\n",
        "\n",
        "# And we can use them immediately\n",
        "print(\"ID:   \", id)\n",
        "print(\"Start:\", start)\n",
        "print(\"End:  \", end)\n",
        "print(\"BED format output:\", id + \":\" + str(start) + \"-\" + str(end))"
      ]
    },
    {
      "cell_type": "markdown",
      "metadata": {
        "id": "pVHT436sXvYe"
      },
      "source": [
        "---\n",
        "\n",
        "## Ranges\n",
        "Ranges are not really a different data type, but lets look at them quickly now as they are a very useful way of creating lists! Really, ranges are a type of automatic list method, where you can define the range and period in your sequence.\n",
        "\n",
        "You can easily create a simple range like so, but note that it is stored as a range-object until you force it to be a list:"
      ]
    },
    {
      "cell_type": "code",
      "execution_count": null,
      "metadata": {
        "colab": {
          "base_uri": "https://localhost:8080/"
        },
        "id": "yEDP7O52Y4jW",
        "outputId": "09bede1e-2839-4074-cb12-ed877342ae8c"
      },
      "outputs": [
        {
          "output_type": "stream",
          "name": "stdout",
          "text": [
            "range(0, 20)\n",
            "[0, 1, 2, 3, 4, 5, 6, 7, 8, 9, 10, 11, 12, 13, 14, 15, 16, 17, 18, 19]\n"
          ]
        }
      ],
      "source": [
        "x = range(20)\n",
        "\n",
        "# As it's own object\n",
        "print(x)\n",
        "\n",
        "# Forced List\n",
        "print(list(x))"
      ]
    },
    {
      "cell_type": "markdown",
      "metadata": {
        "id": "sTzljupXc-09"
      },
      "source": [
        "You can also define the interval that you want your sequence to have"
      ]
    },
    {
      "cell_type": "code",
      "execution_count": null,
      "metadata": {
        "id": "0M6iGIbCc6zW"
      },
      "outputs": [],
      "source": [
        "my_timeline = range(0, 20, 3)\n",
        "print(list(my_timeline))"
      ]
    },
    {
      "cell_type": "markdown",
      "metadata": {
        "id": "73tE45DaZP-w"
      },
      "source": [
        "### Exercise - Creating ranges\n",
        "\n",
        "You have taken a flourescence measurement of your culturing algae every **6 minutes for 5 hours** to see the response to a growth stimulation. We want to plot that data on a graph but we need to first create a list of the X axis time points (starting from time 0 and ending at 300).\n",
        "\n",
        "Your data is stored in a list variable named ```measurements```\n",
        "\n",
        "1. How many elements are going to be in your list? (You could either calculate it yourself, or count the length of your measurements)\n",
        "2. Create a list object named ```timeline``` using ```range()```. This will be your X-axis\n",
        "3. Run the graph making code to plot your data\n",
        "\n",
        "Note: Remember that list indexes must be inclusive!"
      ]
    },
    {
      "cell_type": "code",
      "execution_count": null,
      "metadata": {
        "id": "ni-XFz3IZrJ4",
        "collapsed": true
      },
      "outputs": [],
      "source": [
        "# Your data\n",
        "measurements = [0.68, 1.69, 3.37, 5.61, 7.89, 9.86, 10.9, 10.84, 9.86, 8.22, 6.46, 4.69, 3.19, 2.05, 1.24, 0.7, 0.38, 0.2, 0.1, 0.05, 0.02, 0.01, 0.0, 0.0, 0.0, 0.0, 0.0, 0.0, 0.0, 0.0, 0.0, 0.0, 0.0, 0.0, 0.0, 0.0, 0.0, 0.5, 1.0, 2.0, 3.0, 1.0, 0.0, 0.0, 0.0, 0.0, 0.0, 0.0, 0.0, 0.0, 0.0]\n",
        "\n",
        "## Create your timeline\n",
        "timeline_length = len(measurements)\n",
        "timeline = range(0, timeline_length, 6)"
      ]
    },
    {
      "cell_type": "code",
      "execution_count": null,
      "metadata": {
        "colab": {
          "base_uri": "https://localhost:8080/",
          "height": 791
        },
        "id": "kdmwllxUUGJ3",
        "outputId": "9c37cb6d-2aa0-40f7-b267-791f2c2936e7"
      },
      "outputs": [
        {
          "output_type": "error",
          "ename": "ValueError",
          "evalue": "x and y must have same first dimension, but have shapes (9,) and (51,)",
          "traceback": [
            "\u001b[0;31m---------------------------------------------------------------------------\u001b[0m",
            "\u001b[0;31mValueError\u001b[0m                                Traceback (most recent call last)",
            "\u001b[0;32m/tmp/ipython-input-210625371.py\u001b[0m in \u001b[0;36m<cell line: 0>\u001b[0;34m()\u001b[0m\n\u001b[1;32m      2\u001b[0m \u001b[0;32mimport\u001b[0m \u001b[0mmatplotlib\u001b[0m\u001b[0;34m.\u001b[0m\u001b[0mpyplot\u001b[0m \u001b[0;32mas\u001b[0m \u001b[0mplt\u001b[0m\u001b[0;34m\u001b[0m\u001b[0;34m\u001b[0m\u001b[0m\n\u001b[1;32m      3\u001b[0m \u001b[0;34m\u001b[0m\u001b[0m\n\u001b[0;32m----> 4\u001b[0;31m \u001b[0mplt\u001b[0m\u001b[0;34m.\u001b[0m\u001b[0mplot\u001b[0m\u001b[0;34m(\u001b[0m\u001b[0mtimeline\u001b[0m\u001b[0;34m,\u001b[0m \u001b[0mmeasurements\u001b[0m\u001b[0;34m)\u001b[0m\u001b[0;34m\u001b[0m\u001b[0;34m\u001b[0m\u001b[0m\n\u001b[0m\u001b[1;32m      5\u001b[0m \u001b[0mplt\u001b[0m\u001b[0;34m.\u001b[0m\u001b[0mxlabel\u001b[0m\u001b[0;34m(\u001b[0m\u001b[0;34m'Time'\u001b[0m\u001b[0;34m)\u001b[0m\u001b[0;34m\u001b[0m\u001b[0;34m\u001b[0m\u001b[0m\n\u001b[1;32m      6\u001b[0m \u001b[0mplt\u001b[0m\u001b[0;34m.\u001b[0m\u001b[0mylabel\u001b[0m\u001b[0;34m(\u001b[0m\u001b[0;34m'Fluorescence'\u001b[0m\u001b[0;34m)\u001b[0m\u001b[0;34m\u001b[0m\u001b[0;34m\u001b[0m\u001b[0m\n",
            "\u001b[0;32m/usr/local/lib/python3.12/dist-packages/matplotlib/pyplot.py\u001b[0m in \u001b[0;36mplot\u001b[0;34m(scalex, scaley, data, *args, **kwargs)\u001b[0m\n\u001b[1;32m   3827\u001b[0m     \u001b[0;34m**\u001b[0m\u001b[0mkwargs\u001b[0m\u001b[0;34m,\u001b[0m\u001b[0;34m\u001b[0m\u001b[0;34m\u001b[0m\u001b[0m\n\u001b[1;32m   3828\u001b[0m ) -> list[Line2D]:\n\u001b[0;32m-> 3829\u001b[0;31m     return gca().plot(\n\u001b[0m\u001b[1;32m   3830\u001b[0m         \u001b[0;34m*\u001b[0m\u001b[0margs\u001b[0m\u001b[0;34m,\u001b[0m\u001b[0;34m\u001b[0m\u001b[0;34m\u001b[0m\u001b[0m\n\u001b[1;32m   3831\u001b[0m         \u001b[0mscalex\u001b[0m\u001b[0;34m=\u001b[0m\u001b[0mscalex\u001b[0m\u001b[0;34m,\u001b[0m\u001b[0;34m\u001b[0m\u001b[0;34m\u001b[0m\u001b[0m\n",
            "\u001b[0;32m/usr/local/lib/python3.12/dist-packages/matplotlib/axes/_axes.py\u001b[0m in \u001b[0;36mplot\u001b[0;34m(self, scalex, scaley, data, *args, **kwargs)\u001b[0m\n\u001b[1;32m   1775\u001b[0m         \"\"\"\n\u001b[1;32m   1776\u001b[0m         \u001b[0mkwargs\u001b[0m \u001b[0;34m=\u001b[0m \u001b[0mcbook\u001b[0m\u001b[0;34m.\u001b[0m\u001b[0mnormalize_kwargs\u001b[0m\u001b[0;34m(\u001b[0m\u001b[0mkwargs\u001b[0m\u001b[0;34m,\u001b[0m \u001b[0mmlines\u001b[0m\u001b[0;34m.\u001b[0m\u001b[0mLine2D\u001b[0m\u001b[0;34m)\u001b[0m\u001b[0;34m\u001b[0m\u001b[0;34m\u001b[0m\u001b[0m\n\u001b[0;32m-> 1777\u001b[0;31m         \u001b[0mlines\u001b[0m \u001b[0;34m=\u001b[0m \u001b[0;34m[\u001b[0m\u001b[0;34m*\u001b[0m\u001b[0mself\u001b[0m\u001b[0;34m.\u001b[0m\u001b[0m_get_lines\u001b[0m\u001b[0;34m(\u001b[0m\u001b[0mself\u001b[0m\u001b[0;34m,\u001b[0m \u001b[0;34m*\u001b[0m\u001b[0margs\u001b[0m\u001b[0;34m,\u001b[0m \u001b[0mdata\u001b[0m\u001b[0;34m=\u001b[0m\u001b[0mdata\u001b[0m\u001b[0;34m,\u001b[0m \u001b[0;34m**\u001b[0m\u001b[0mkwargs\u001b[0m\u001b[0;34m)\u001b[0m\u001b[0;34m]\u001b[0m\u001b[0;34m\u001b[0m\u001b[0;34m\u001b[0m\u001b[0m\n\u001b[0m\u001b[1;32m   1778\u001b[0m         \u001b[0;32mfor\u001b[0m \u001b[0mline\u001b[0m \u001b[0;32min\u001b[0m \u001b[0mlines\u001b[0m\u001b[0;34m:\u001b[0m\u001b[0;34m\u001b[0m\u001b[0;34m\u001b[0m\u001b[0m\n\u001b[1;32m   1779\u001b[0m             \u001b[0mself\u001b[0m\u001b[0;34m.\u001b[0m\u001b[0madd_line\u001b[0m\u001b[0;34m(\u001b[0m\u001b[0mline\u001b[0m\u001b[0;34m)\u001b[0m\u001b[0;34m\u001b[0m\u001b[0;34m\u001b[0m\u001b[0m\n",
            "\u001b[0;32m/usr/local/lib/python3.12/dist-packages/matplotlib/axes/_base.py\u001b[0m in \u001b[0;36m__call__\u001b[0;34m(self, axes, data, return_kwargs, *args, **kwargs)\u001b[0m\n\u001b[1;32m    295\u001b[0m                 \u001b[0mthis\u001b[0m \u001b[0;34m+=\u001b[0m \u001b[0margs\u001b[0m\u001b[0;34m[\u001b[0m\u001b[0;36m0\u001b[0m\u001b[0;34m]\u001b[0m\u001b[0;34m,\u001b[0m\u001b[0;34m\u001b[0m\u001b[0;34m\u001b[0m\u001b[0m\n\u001b[1;32m    296\u001b[0m                 \u001b[0margs\u001b[0m \u001b[0;34m=\u001b[0m \u001b[0margs\u001b[0m\u001b[0;34m[\u001b[0m\u001b[0;36m1\u001b[0m\u001b[0;34m:\u001b[0m\u001b[0;34m]\u001b[0m\u001b[0;34m\u001b[0m\u001b[0;34m\u001b[0m\u001b[0m\n\u001b[0;32m--> 297\u001b[0;31m             yield from self._plot_args(\n\u001b[0m\u001b[1;32m    298\u001b[0m                 \u001b[0maxes\u001b[0m\u001b[0;34m,\u001b[0m \u001b[0mthis\u001b[0m\u001b[0;34m,\u001b[0m \u001b[0mkwargs\u001b[0m\u001b[0;34m,\u001b[0m \u001b[0mambiguous_fmt_datakey\u001b[0m\u001b[0;34m=\u001b[0m\u001b[0mambiguous_fmt_datakey\u001b[0m\u001b[0;34m,\u001b[0m\u001b[0;34m\u001b[0m\u001b[0;34m\u001b[0m\u001b[0m\n\u001b[1;32m    299\u001b[0m                 \u001b[0mreturn_kwargs\u001b[0m\u001b[0;34m=\u001b[0m\u001b[0mreturn_kwargs\u001b[0m\u001b[0;34m\u001b[0m\u001b[0;34m\u001b[0m\u001b[0m\n",
            "\u001b[0;32m/usr/local/lib/python3.12/dist-packages/matplotlib/axes/_base.py\u001b[0m in \u001b[0;36m_plot_args\u001b[0;34m(self, axes, tup, kwargs, return_kwargs, ambiguous_fmt_datakey)\u001b[0m\n\u001b[1;32m    492\u001b[0m \u001b[0;34m\u001b[0m\u001b[0m\n\u001b[1;32m    493\u001b[0m         \u001b[0;32mif\u001b[0m \u001b[0mx\u001b[0m\u001b[0;34m.\u001b[0m\u001b[0mshape\u001b[0m\u001b[0;34m[\u001b[0m\u001b[0;36m0\u001b[0m\u001b[0;34m]\u001b[0m \u001b[0;34m!=\u001b[0m \u001b[0my\u001b[0m\u001b[0;34m.\u001b[0m\u001b[0mshape\u001b[0m\u001b[0;34m[\u001b[0m\u001b[0;36m0\u001b[0m\u001b[0;34m]\u001b[0m\u001b[0;34m:\u001b[0m\u001b[0;34m\u001b[0m\u001b[0;34m\u001b[0m\u001b[0m\n\u001b[0;32m--> 494\u001b[0;31m             raise ValueError(f\"x and y must have same first dimension, but \"\n\u001b[0m\u001b[1;32m    495\u001b[0m                              f\"have shapes {x.shape} and {y.shape}\")\n\u001b[1;32m    496\u001b[0m         \u001b[0;32mif\u001b[0m \u001b[0mx\u001b[0m\u001b[0;34m.\u001b[0m\u001b[0mndim\u001b[0m \u001b[0;34m>\u001b[0m \u001b[0;36m2\u001b[0m \u001b[0;32mor\u001b[0m \u001b[0my\u001b[0m\u001b[0;34m.\u001b[0m\u001b[0mndim\u001b[0m \u001b[0;34m>\u001b[0m \u001b[0;36m2\u001b[0m\u001b[0;34m:\u001b[0m\u001b[0;34m\u001b[0m\u001b[0;34m\u001b[0m\u001b[0m\n",
            "\u001b[0;31mValueError\u001b[0m: x and y must have same first dimension, but have shapes (9,) and (51,)"
          ]
        },
        {
          "output_type": "display_data",
          "data": {
            "text/plain": [
              "<Figure size 640x480 with 1 Axes>"
            ],
            "image/png": "[encoded data removed]"
          },
          "metadata": {}
        }
      ],
      "source": [
        "# Make a quick graph\n",
        "import matplotlib.pyplot as plt\n",
        "\n",
        "plt.plot(timeline, measurements)\n",
        "plt.xlabel('Time')\n",
        "plt.ylabel('Fluorescence')\n",
        "plt.show()"
      ]
    },
    {
      "cell_type": "markdown",
      "metadata": {
        "id": "dHQW6joOSzSV"
      },
      "source": [
        "---\n",
        "\n",
        "# Two Dimensional (2D) lists\n",
        "\n",
        "2d lists are where each element of the list is a list itself. You can imagine it a little like rows and columns in a spreadsheet or dataframe.\n",
        "\n",
        "Here the first element in each row is a confidence value, the second is the gene ID, and the third is the length of the gene."
      ]
    },
    {
      "cell_type": "code",
      "execution_count": null,
      "metadata": {
        "colab": {
          "base_uri": "https://localhost:8080/"
        },
        "id": "eXf1oq8jSdtM",
        "outputId": "a0df7924-0965-4547-b0e6-5d2451058220"
      },
      "outputs": [
        {
          "output_type": "stream",
          "name": "stdout",
          "text": [
            "[0.92, 'MET1', 2205]\n",
            "[0.82, 'EGFR', 1567]\n",
            "[0.87, 'BRCA1', 2323]\n"
          ]
        }
      ],
      "source": [
        "gene_confs = [[0.92, 'MET1', 2205], [0.82, 'EGFR', 1567], [0.93, 'KRAS', 6523], [0.4, 'TP53', 5002], [0.94, 'ROS5', 1999], [0.87, 'BRCA1', 2323]]\n",
        "\n",
        "print(gene_confs[0])\n",
        "print(gene_confs[1])\n",
        "print(gene_confs[-1])"
      ]
    },
    {
      "cell_type": "markdown",
      "metadata": {
        "id": "qbKOiV8jSdtN"
      },
      "source": [
        "We can access individual elements of the annotation table using two indices by combining square bracket indexing like with a normal list"
      ]
    },
    {
      "cell_type": "code",
      "execution_count": null,
      "metadata": {
        "colab": {
          "base_uri": "https://localhost:8080/"
        },
        "id": "y80yavPgVvQm",
        "outputId": "c5feb982-47ab-47ee-9692-17191bb763cc"
      },
      "outputs": [
        {
          "output_type": "stream",
          "name": "stdout",
          "text": [
            "EGFR\n",
            "0.4\n",
            "2323\n",
            "2323\n"
          ]
        }
      ],
      "source": [
        "# Try and find the each of these outputs in the gene_confs list\n",
        "print(gene_confs[1][1])\n",
        "print(gene_confs[3][0])\n",
        "print(gene_confs[5][2])\n",
        "print(gene_confs[-1][-1])"
      ]
    },
    {
      "cell_type": "markdown",
      "metadata": {
        "id": "IN0PIuhlZvKG"
      },
      "source": [
        "We can then also add, remove, or sort the list just the same way as if it was a single list. Sort will work on just the first element in each sublist (there are more complex methods to sort on other elements, for later in the course!)\n",
        "\n",
        "One thing to note: There are two sort-related approaches. the ```.sort()``` method changes the list you already have, however ```sorted(list)``` will create a new list."
      ]
    },
    {
      "cell_type": "code",
      "execution_count": null,
      "metadata": {
        "id": "p46t7niXSdtN"
      },
      "outputs": [],
      "source": [
        "# A reminder on functions/methods. Here we have a list but it is the same for strings or numbers\n",
        "my_data = [\"A\", \"B\", \"C\"]\n",
        "\n",
        "# Method format modifies the object\n",
        "my_data.method()\n",
        "\n",
        "# Function format uses the object and outputs something new\n",
        "new_data = function(my_data)"
      ]
    },
    {
      "cell_type": "code",
      "execution_count": 1,
      "metadata": {
        "id": "tOUm5LI7zEsQ",
        "colab": {
          "base_uri": "https://localhost:8080/"
        },
        "outputId": "a4c27aa0-bf69-47a2-8bf1-2b74ca7704e2"
      },
      "outputs": [
        {
          "output_type": "stream",
          "name": "stdout",
          "text": [
            "gene_confs list:\t [[0.92, 'MET1', 2205], [0.82, 'EGFR', 1567], [0.93, 'KRAS', 6523], [0.4, 'TP53', 5002], [0.94, 'ROS5', 1999], [0.87, 'BRCA1', 2323]]\n",
            "new gene_confs list:\t [[0.4, 'TP53', 5002], [0.82, 'EGFR', 1567], [0.87, 'BRCA1', 2323], [0.92, 'MET1', 2205], [0.93, 'KRAS', 6523], [0.94, 'ROS5', 1999]]\n",
            "gene_confs list:\t [[0.94, 'ROS5', 1999], [0.93, 'KRAS', 6523], [0.92, 'MET1', 2205], [0.87, 'BRCA1', 2323], [0.82, 'EGFR', 1567], [0.4, 'TP53', 5002]]\n"
          ]
        }
      ],
      "source": [
        "gene_confs = [[0.92, 'MET1', 2205], [0.82, 'EGFR', 1567], [0.93, 'KRAS', 6523], [0.4, 'TP53', 5002], [0.94, 'ROS5', 1999], [0.87, 'BRCA1', 2323]]\n",
        "\n",
        "# Sort function\n",
        "new_list = sorted(gene_confs)\n",
        "# Now we have two lists\n",
        "print(\"gene_confs list:\\t\", gene_confs)\n",
        "print(\"new gene_confs list:\\t\", new_list)\n",
        "\n",
        "# Sort method - Here we just modify the first list\n",
        "gene_confs.sort(reverse = True)\n",
        "# Printing the original list is now different\n",
        "print(\"gene_confs list:\\t\", gene_confs)"
      ]
    },
    {
      "cell_type": "markdown",
      "metadata": {
        "id": "tWtcaTq6aOzg"
      },
      "source": [
        "**Extension:**\n",
        "\n",
        "There is also a method named ```zip``` which can combine lists into an array. Incredibly useful!\n",
        "\n",
        "We will see it later in more complex examples but works simply like this:"
      ]
    },
    {
      "cell_type": "code",
      "execution_count": 2,
      "metadata": {
        "id": "epyWZLAGasNA",
        "colab": {
          "base_uri": "https://localhost:8080/"
        },
        "outputId": "53fdcf28-b20d-458d-b408-08f76045d3c2"
      },
      "outputs": [
        {
          "output_type": "stream",
          "name": "stdout",
          "text": [
            "<zip object at 0x78c8dc07e7c0>\n",
            "[('A', 24), ('T', 17), ('C', 73), ('G', 26)]\n"
          ]
        }
      ],
      "source": [
        "bases = [\"A\", \"T\", \"C\", \"G\"]\n",
        "count = [24, 17, 73, 26]\n",
        "\n",
        "combined_base_count = zip(bases, count)\n",
        "\n",
        "print(combined_base_count)\n",
        "print(list(combined_base_count))"
      ]
    },
    {
      "cell_type": "markdown",
      "metadata": {
        "id": "k4B5OynX93p9"
      },
      "source": [
        "Note that it creates tuples, not a list, and also the requirement to force a ```list``` object to make it print.\n",
        "\n",
        "You can also unzip in reverse, splitting a 2D list into two lists using the ```*``` on the 2d list:"
      ]
    },
    {
      "cell_type": "code",
      "execution_count": 3,
      "metadata": {
        "id": "TWeRorxK9-Jd",
        "colab": {
          "base_uri": "https://localhost:8080/"
        },
        "outputId": "90477bcb-5e90-4d83-a9ef-2ac1e4a425b2"
      },
      "outputs": [
        {
          "output_type": "stream",
          "name": "stdout",
          "text": [
            "('WT', 'Mut1', 'Mut2', 'Mut3')\n",
            "(98, 76, 86, 79)\n"
          ]
        }
      ],
      "source": [
        "line_exp = [(\"WT\", 98), (\"Mut1\", 76), (\"Mut2\", 86), (\"Mut3\", 79)]\n",
        "\n",
        "line, exp = zip(*line_exp)\n",
        "\n",
        "print(line)\n",
        "print(exp)\n"
      ]
    },
    {
      "cell_type": "markdown",
      "metadata": {
        "id": "21ou3cQMXQj-"
      },
      "source": [
        "### Exercise: Manipulating 2D lists\n",
        "\n",
        "Here we have a list of genes with three values: confidence score, geneID, and gene length\n",
        "\n",
        "1. Sort the gene list by confidence value\n",
        "2. Create a new variable named ```highest``` which contains the gene ID of the list with the highest confidence value and print it\n",
        "3. We have new data! Add two new elements to the list:\n",
        "        ```[0.97, APC1 , 4287]``` and  ```[0.72, COI, 1660]```\n",
        "(there are several ways to do this! You could look back at the joining list section for a refresh)\n",
        "4. Put the three genes with the lowest confidence into a new list named ```low_conf_genes``` and print it.\n",
        "\n",
        "**Extension:** 5. Add a new element into the gene_confs list for the low confidence genes so that they have a 4th element saying ```RETEST```\n",
        "\n",
        "Note: If you have done some programming before you may notice that in several of these examples there are better and quicker ways to achieve the steps by using loops and conditionals. We will cover this in the next session but for now, use the commands we've learned\n"
      ]
    },
    {
      "cell_type": "code",
      "execution_count": 11,
      "metadata": {
        "id": "PF0FvjEqeaZ2",
        "colab": {
          "base_uri": "https://localhost:8080/"
        },
        "outputId": "0245056d-0342-49b8-c380-361de2f1bba0"
      },
      "outputs": [
        {
          "output_type": "stream",
          "name": "stdout",
          "text": [
            "[[0.4, 'TP53', 5002], [0.82, 'EGFR', 1567], [0.87, 'BRCA1', 2323], [0.92, 'MET1', 2205], [0.93, 'KRAS', 6523], [0.94, 'ROS5', 1999]]\n",
            "ROS5\n",
            "[[0.4, 'TP53', 5002], [0.72, 'COI', 1660], [0.82, 'EGFR', 1567], [0.87, 'BRCA1', 2323], [0.92, 'MET1', 2205], [0.93, 'KRAS', 6523], [0.94, 'ROS5', 1999], [0.97, 'APC1', 4287]]\n",
            "('TP53', 'COI', 'EGFR')\n"
          ]
        }
      ],
      "source": [
        "gene_confs = [[0.92, 'MET1', 2205], [0.82, 'EGFR', 1567], [0.93, 'KRAS', 6523], [0.4, 'TP53', 5002], [0.94, 'ROS5', 1999], [0.87, 'BRCA1', 2323]]\n",
        "\n",
        "# Your code\n",
        "\n",
        "#Sort from lowest to highest Confidence value and place into new list\n",
        "new_gene_list = sorted(gene_confs)\n",
        "print(new_gene_list)\n",
        "\n",
        "#Insert the gene id for the highest value into a new variable called higher\n",
        "highest = new_gene_list[-1][1]\n",
        "print(highest)\n",
        "\n",
        "#Add two new genes to the list\n",
        "new_gene_list.append([0.97, 'APC1' , 4287])\n",
        "new_gene_list.append([0.72, 'COI', 1660])\n",
        "\n",
        "#Resort the modified list into a new variable\n",
        "newer_gene_list = sorted(new_gene_list)\n",
        "print(newer_gene_list)\n",
        "\n",
        "#Unzip the 2D list into its 3 principle components\n",
        "conf_no, id, length = zip(*newer_gene_list)\n",
        "\n",
        "#Isolate the first 3 genes ids with lowest confidence values\n",
        "low_conf_genes = id[0:3]\n",
        "\n",
        "print(low_conf_genes)\n",
        "\n",
        "\n",
        "\n"
      ]
    }
  ],
  "metadata": {
    "colab": {
      "provenance": [],
      "toc_visible": true
    },
    "kernelspec": {
      "display_name": "Python 3",
      "name": "python3"
    },
    "language_info": {
      "codemirror_mode": {
        "name": "ipython",
        "version": 3
      },
      "file_extension": ".py",
      "mimetype": "text/x-python",
      "name": "python",
      "nbconvert_exporter": "python",
      "pygments_lexer": "ipython3",
      "version": "3.11.5"
    }
  },
  "nbformat": 4,
  "nbformat_minor": 0
}