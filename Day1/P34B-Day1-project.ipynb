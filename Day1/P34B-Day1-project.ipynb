{
  "cells": [
    {
      "cell_type": "markdown",
      "metadata": {
        "id": "ELLkNgCz2-dB"
      },
      "source": [
        "# Practical Python Programming for Biologists\n",
        "Author, Dr. Daniel Pass | www.CompassBioinformatics.com\n",
        "\n",
        "---"
      ]
    },
    {
      "cell_type": "markdown",
      "metadata": {
        "id": "UbYwA7riL9Lr"
      },
      "source": [
        "#  Day 1 Project Challenge\n",
        "\n",
        "We have been investigating the upstream sequence region of P2X1 and have data on Transcription Factor Binding Sites. I want you to write code to analyse the data collected and automatically output some interpretation in easy to read format (ready for a non-computer prof. to understand!).\n",
        "\n",
        "You have been given the following data,\n",
        "- A region of DNA that we're investigating\n",
        "- A list of binding sites with their sequence and position of their first base\n",
        "- A 2D list of binding sequence motifs and their frequency\n",
        "\n",
        "There are infinite different ways to answer these questions and no true correct answer. Think about the approaches you might try first in normal languange, and then think how you would achive it with python. Take your time, this is a big collection of chalenges that should take 30+ minutes!\n",
        "\n",
        "#### Objectives\n",
        "1. Calculate the length of the region being studied and total AT% (AT regions are often associated with binding sites)\n",
        "2. Divide the region into three equal sections and report if AT% is different between them\n",
        "3. Print the DNA sequence of the given experimental binding motifs above the actual binding section from the long sequence region so that it looks like i.e.:\n",
        "\n",
        "    ```\n",
        "    TFBS1\n",
        "    ACTGA\n",
        "    ACAGA\n",
        "    ```\n",
        "\n",
        "    - Note: Use the position number to output the sequence of the region +/- 5bp: If the position is 100 and the motif is 5 bases long output bases: 95-[motif length=5]-110\n",
        "    - Extension: Include the surrounding section too, aiming for a format like this:\n",
        "    \n",
        "          TFBS1\n",
        "          -----XXXXX-----\n",
        "          ACTGAXXXXXATCGA\n",
        "\n",
        "Extensions:\n",
        "- Make a bar chart showing frequency of in silico predictions - You can copy the barchart code from the introduction session to start\n",
        "  - Should all in the list be represented? Maybe remove one?\n",
        "\n",
        "---\n",
        "\n",
        "Tips,\n",
        "- Work on getting the outputs first. Make it look attractive second!\n",
        "- Using regular `print()` statements can help understand what's happening\n",
        "- Don't forget about the zip and unzip functions\n",
        "- This may be a useful graph parameter, ```plt.xticks(rotation=90)```!\n",
        "- Some commands are repeatative. We will solve this with loops in the next sessions but for now it is good to practice!\n"
      ]
    },
    {
      "cell_type": "markdown",
      "metadata": {
        "id": "cwMhl6maOQoz"
      },
      "source": [
        "### Example of an upstream promotor region, with highlighted motifs (not your gene!)"
      ]
    },
    {
      "cell_type": "markdown",
      "metadata": {
        "id": "6uytvQJdkF6i"
      },
      "source": [
        "![promotor.png](attachment:promotor.png)"
      ]
    },
    {
      "cell_type": "markdown",
      "metadata": {
        "id": "lp1qxWYfXoF0"
      },
      "source": [
        "Upstream DNA region of interest"
      ]
    },
    {
      "cell_type": "code",
      "execution_count": null,
      "metadata": {
        "id": "qGc5pWZFL50i"
      },
      "outputs": [],
      "source": [
        ">ref|NC_000008.11|,11670718-11670917 Homo sapiens chromosome 8, GRCh38.p14 Primary Assembly\n",
        "AATTATTTACTTAGCTAGGAGTGTGAGCTTGAGGGCGGGTCTAATGAGTAGGTCAGAGTCAG\n",
        "CCTGGCACAGCAAGAATGAAATAATTTTTTTTTTGAGATAAGGTCTTGCTCTGCCACCCAGG\n",
        "CAATGGTGTGATCATAGGTCACTGTAACCTCAAACTCTTGGGCTCAAGTGATCCTCCTGCAT\n",
        "AGTTGGTATTACTTAGCTAGGAGTGTGAGCTTGAGGGCGGGTCTAATGAGTAGGTCAGAGTC\n",
        "CCTGGCACAGCAAGAATGAAATAATTTTTTTTGAGATAAGGTCTTGCTCTGCCACCCAGGAT\n",
        "GGAGTGCAATGGTGTGATCATAGGTCACTGTAACCTCAAACTCTTGGGCTCAAGTGATCCTC\n",
        "CTGCGTTGGTATTACTTAGCTAGGAGTGTGAGCTTGAGGGCGGGTTTTTTTTGAGATAAGGT\n",
        "CTTGCTCTGCCACCCAGGATGGAGTGCAATGGTGTGATCATAGGTCACTGTAACCTCAAACT\n",
        "CTTGGGCTCAAGTGATCCTCCTGC\n"
      ]
    },
    {
      "cell_type": "markdown",
      "metadata": {
        "id": "WfxxwxAhXrnS"
      },
      "source": [
        "## Input Data"
      ]
    },
    {
      "cell_type": "code",
      "execution_count": 2,
      "metadata": {
        "id": "MtKehWIXQpzL"
      },
      "outputs": [],
      "source": [
        "# Upstrem region of interest (as a string)\n",
        "region = \"AATTATTTACTTAGCTAGGAGTGTGAGCTTGAGGGCGGGTCTAATGAGTAGGTCAGAGTCAGCCTGGCACAGCAAGAATGAAATAATTTTTTTTTTGAGATAAGGTCTTGCTCTGCCACCCAGGCAATGGTGTGATCATAGGTCACTGTAACCTCAAACTCTTGGGCTCAAGTGATCCTCCTGCATAGTTGGTATTACTTAGCTAGGAGTGTGAGCTTGAGGGCGGGTCTAATGAGTAGGTCAGAGTCCCTGGCACAGCAAGAATGAAATAATTTTTTTTGAGATAAGGTCTTGCTCTGCCACCCAGGATGGAGTGCAATGGTGTGATCATAGGTCACTGTAACCTCAAACTCTTGGGCTCAAGTGATCCTCCTGCGTTGGTATTACTTAGCTAGGAGTGTGAGCCGGAGGGCGGGTTTTTTTTGAGACAAGGTCTTGCCCCGCCACCCAGGAGGGAGTGCGCTGGTGTGATCATAGGTCACTGTAACCTCAAACTCTTGGGCTCGCGTGATCCCCCGGC\"\n",
        "\n",
        "# The list of binding motifs confirmed by your CHIPSeq experiment and first base binding in region\n",
        "TFBS_experimental = [\"AGGTC\", \"TGATT\", \"GGTCT\"]\n",
        "confirmed_binding_sites = [139, 468, 225]\n",
        "\n",
        "# Sequence motifs found in the region, and frequency\n",
        "in_silico_sites = [('AATGA', 4), ('CATAG', 4), ('GGAGT', 5), ('GAGTG', 5), ('GGTCT', 5), ('TAGGT', 5), ('GGTCA', 5), ('GTGTG', 6), ('TGTGA', 6), ('TTGAG', 6), ('TCTTG', 6), ('GTGAT', 6), ('TGATC', 6), ('CTCAA', 6), ('AGGTC', 8), ('TTTTT', 14)]\n"
      ]
    },
    {
      "cell_type": "code",
      "execution_count": 12,
      "metadata": {
        "id": "Z9w33vx7Ptk7",
        "outputId": "7465041a-8401-4000-cb1e-2f8e794591eb",
        "colab": {
          "base_uri": "https://localhost:8080/"
        }
      },
      "outputs": [
        {
          "output_type": "stream",
          "name": "stdout",
          "text": [
            "The rounded AT percentage here is 51.15%\n",
            "Region 1: 56.07\n",
            "Region 2: 53.76\n",
            "Region 3: 43.68\n"
          ]
        }
      ],
      "source": [
        "# Your code\n",
        "t_len = len(region)\n",
        "count_AT = region.count(\"A\") + region.count(\"T\")\n",
        "# Calculate the GC percentage by dividing the GC count by the total number of sequence bases\n",
        "AT_percent = float((count_AT / t_len) * 100)\n",
        "#Here we round the GC percentage to 2 decimal places, specified be the second argument (ndigits = 2)\n",
        "rounded_AT_percent = round(AT_percent, 2)\n",
        "#Here we feed the variable values into print statements to display the results\n",
        "print(\"The rounded AT percentage here is\", str(rounded_AT_percent) + \"%\")\n",
        "\n",
        "#Divide the region into three equal sections and report if AT% is different between them\n",
        "\n",
        "one_third = int(t_len / 3)\n",
        "#Here we divide the region into three equal sections\n",
        "region_1 = region[ : one_third]\n",
        "region_2 = region[one_third : (one_third * 2)]\n",
        "region_3 = region[(one_third * 2) : ]\n",
        "\n",
        "#Calculate percentage of each section\n",
        "\n",
        "AT_percent_reg1 = ((region_1.count(\"A\") + region_1.count(\"T\"))/ len(region_1)) * 100\n",
        "\n",
        "AT_percent_reg2 = ((region_2.count(\"A\") + region_2.count(\"T\"))/ len(region_2)) * 100\n",
        "\n",
        "AT_percent_reg3 = ((region_3.count(\"A\") + region_3.count(\"T\"))/ len(region_3)) * 100\n",
        "#Print percentages of each region\n",
        "print(\"Region 1:\", round(AT_percent_reg1, 2), \"%\")\n",
        "print(\"Region 2:\", round(AT_percent_reg2, 2), \"%\")\n",
        "print(\"Region 3:\", round(AT_percent_reg3, 2), \"%\")\n",
        "\n",
        "\n",
        "\n",
        "\n",
        "\n"
      ]
    }
  ],
  "metadata": {
    "colab": {
      "provenance": []
    },
    "kernelspec": {
      "display_name": "Python 3",
      "name": "python3"
    },
    "language_info": {
      "codemirror_mode": {
        "name": "ipython",
        "version": 3
      },
      "file_extension": ".py",
      "mimetype": "text/x-python",
      "name": "python",
      "nbconvert_exporter": "python",
      "pygments_lexer": "ipython3",
      "version": "3.11.5"
    }
  },
  "nbformat": 4,
  "nbformat_minor": 0
}