{
  "cells": [
    {
      "cell_type": "markdown",
      "metadata": {
        "id": "8y4AK8T2UmTw"
      },
      "source": [
        "# Practical Python Programming for Biologists\n",
        "Author: Dr. Daniel Pass | www.CompassBioinformatics.com\n",
        "\n",
        "---"
      ]
    },
    {
      "cell_type": "markdown",
      "metadata": {
        "id": "QxikhAFLUpPh"
      },
      "source": [
        "---\n",
        "\n",
        "# Day 2 Project - More strings & loops - and very messy data\n",
        "\n",
        "Data is messy. Biologist data even more so. Here we have some data on bacterial abundance as collected by some well meaning scientists but unfortunately it's a bit of a mess. It is technically in a four column format liks this, howver when you look below it's mixed up:\n",
        "\n",
        "```\n",
        "| Collector | Percentage abundance | Dominant Phyla | Date |\n",
        "```\n",
        "\n",
        "Delimeters:\n",
        "- Between collected sample records: ```,```\n",
        "- Between data fields per sample: ```-```\n",
        "\n",
        "We want to clean up the data and make some sense out of it. **The objective is to output a count of the number of samples with a high proportion of each phyla.**\n",
        "\n",
        "1. Look at the text file first so that you know what we are looking at!\n",
        "2. We will read in the file ```MessyData.txt``` with ```open()``` as one object (it is too mixed-up to read line-by-line), and then split based on the delimiters above. We will learn more about loading files in the IO session.\n",
        "\n",
        "If you want to challange yourself try to clean the data first before looking in this guide section!\n",
        "I recommend using ```print()``` functions after each step to check the output is as expected.\n",
        "\n",
        "---\n",
        "\n",
        "<details>\n",
        "<summary>Step-by-step guide</summary>\n",
        "\n",
        "2. First split the data by commas into a new list of ```records``` with the function ```.split()```\n",
        "2. Create a new loop to go through your ```records``` list and split each record by ```-``` into the 4 data elements (put the output into a new list too)\n",
        "3. Create a **2D/nested** loop for your latest list, to remove the whitepace off each element with ```.strip()```. (First go through each record, then through each element. Make sure to keep experiments together!)\n",
        "4. Create a long list of all the dominant phyla per sample (The third column of the data) - some samples have multiple phyla, so have to be split again first! Careful here, because you want a basic list, not a list of lists.\n",
        "\n",
        "</details>\n",
        "\n",
        "---\n",
        "\n",
        "5. Print out your new clean dataframe!\n",
        "\n",
        "**Extensions**\n",
        "1. Calculate the average abundance per collection date (4 options) (use ```if date_column == ....```. We'll look at automatically building lists later)\n",
        "2. Output a clean list of all named phyla from the data column in a list named ```phyla_count```. There may be more than one phyla in the list per sample. There is a codeblock at the end that will count for each of the list I've given you, and summarise your output for a list of phyla."
      ]
    },
    {
      "cell_type": "code",
      "execution_count": 22,
      "metadata": {
        "id": "xCi8rep_TvGs",
        "outputId": "6b8c02ee-35cf-4f4e-9c51-4cb2b1b39003",
        "colab": {
          "base_uri": "https://localhost:8080/"
        }
      },
      "outputs": [
        {
          "output_type": "stream",
          "name": "stdout",
          "text": [
            "['Chloroflexi', 'Chloroflexi', 'Acidobacteria', 'Chloroflexi', 'Acidobacteria', 'Chloroflexi', 'Chloroflexi', 'Bacillus', 'Actinomycetes', 'Actinomycetes', 'Bacillus', 'Actinomycetes', 'Bacillus', 'Acidobacteria', 'Acidobacteria', 'Actinomycetes', 'Acidobacteria', 'Chloroflexi', 'Chloroflexi', 'Firmicutes', 'Chloroflexi', 'Acidobacteria', 'Firmicutes', 'Acidobacteria', 'Proteobacteria', 'Acidobacteria', 'Proteobacteria', 'Acidobacteria', 'Firmicutes', 'Proteobacteria', 'Acidobacteria', 'Firmicutes', 'Cyanobacteria', 'Cyanobacteria', 'Bacillus', 'Chloroflexi', 'Cyanobacteria', 'Bacillus', 'Chloroflexi', 'Cyanobacteria', 'Bacillus', 'Proteobacteria', 'Proteobacteria', 'Bacillus', 'Proteobacteria', 'Bacillus', 'Acidobacteria', 'Proteobacteria', 'Bacillus', 'Actinomycetes', 'Acidobacteria', 'Cyanobacteria', 'Cyanobacteria', 'Acidobacteria', 'Cyanobacteria', 'Acidobacteria', 'Cyanobacteria', 'Cyanobacteria', 'Actinomycetes', 'Cyanobacteria', 'Actinomycetes', 'Bacillus', 'Bacillus', 'Firmicutes', 'Bacillus', 'Bacillus', 'Acidobacteria', 'Bacillus', 'Acidobacteria', 'Firmicutes', 'Cyanobacteria', 'Cyanobacteria', 'Firmicutes', 'Cyanobacteria', 'Firmicutes', 'Chloroflexi', 'Cyanobacteria', 'Firmicutes', 'Bacillus', 'Bacillus', 'Cyanobacteria', 'Proteobacteria', 'Bacillus', 'Cyanobacteria', 'Bacillus', 'Chloroflexi', 'Bacillus', 'Chloroflexi', 'Bacillus', 'Cyanobacteria', 'Bacillus', 'Bacillus', 'Chloroflexi', 'Chloroflexi', 'Cyanobacteria', 'Chloroflexi', 'Cyanobacteria', 'Chloroflexi', 'Cyanobacteria', 'Firmicutes', 'Actinomycetes', 'Actinomycetes', 'Bacillus', 'Actinomycetes', 'Bacillus', 'Proteobacteria', 'Actinomycetes', 'Bacillus', 'Firmicutes', 'Bacillus', 'Firmicutes', 'Proteobacteria', 'Bacillus', 'Firmicutes', 'Firmicutes', 'Proteobacteria', 'Firmicutes', 'Proteobacteria', 'Chloroflexi', 'Firmicutes', 'Chloroflexi', 'Chloroflexi', 'Firmicutes', 'Actinomycetes', 'Actinomycetes', 'Proteobacteria', 'Proteobacteria', 'Proteobacteria', 'Firmicutes', 'Chloroflexi', 'Firmicutes', 'Chloroflexi', 'Actinomycetes', 'Firmicutes', 'Firmicutes', 'Cyanobacteria', 'Firmicutes', 'Cyanobacteria', 'Firmicutes', 'Cyanobacteria', 'Firmicutes', 'Proteobacteria', 'Proteobacteria', 'Bacillus', 'Proteobacteria', 'Bacillus', 'Acidobacteria', 'Actinomycetes', 'Actinomycetes', 'Cyanobacteria', 'Bacillus', 'Bacillus', 'Bacillus', 'Acidobacteria', 'Proteobacteria', 'Proteobacteria', 'Chloroflexi', 'Chloroflexi', 'Acidobacteria', 'Chloroflexi', 'Cyanobacteria', 'Acidobacteria', 'Proteobacteria', 'Proteobacteria', 'Bacillus', 'Proteobacteria', 'Bacillus', 'Cyanobacteria', 'Proteobacteria', 'Proteobacteria', 'Proteobacteria', 'Actinomycetes', 'Proteobacteria', 'Proteobacteria', 'Chloroflexi', 'Proteobacteria', 'Chloroflexi', 'Acidobacteria', 'Proteobacteria', 'Chloroflexi', 'Acidobacteria']\n"
          ]
        }
      ],
      "source": [
        "# Write your code here\n",
        "# Read file in as one block because too messy to read line by line\n",
        "with open(\"/content/Day2-Project-MessyData.txt\") as inFile:\n",
        "  data = inFile.read()\n",
        "#Split data on the commas\n",
        "records = data.split(\",\")\n",
        "#Create a list for the cleaned data that has been split on its hyphens\n",
        "clean_list = []\n",
        "#Loop to split each data set into the individual four components  Collector | Percentage abundance | Dominant Phyla | Date |\n",
        "for record in records:\n",
        "  fields = record.split(\"-\")\n",
        "#Create a clean field list\n",
        "  clean_fields = []\n",
        "#Remove the leading whitespace from each data component and append it to the clean fields list\n",
        "  for field in fields:\n",
        "    new_field = field.strip()\n",
        "    clean_fields.append(new_field)\n",
        "\n",
        "  clean_list.append(clean_fields)\n",
        "#Create new list for the phyla\n",
        "all_phyla = []\n",
        "#Extract each phyla name (the third datapoint), split it if there are two on the & and then add it to the empty all_phyla list\n",
        "for dataset in clean_list:\n",
        "  phylum = dataset[2].split(\"&\")\n",
        "  all_phyla += phylum\n",
        "\n",
        "print(all_phyla)\n",
        "\n",
        "\n",
        "\n",
        "\n",
        "\n",
        "\n",
        "\n",
        "\n",
        "\n",
        "\n"
      ]
    },
    {
      "cell_type": "code",
      "execution_count": 23,
      "metadata": {
        "id": "-PNivMv_nLDD",
        "outputId": "4696b940-4013-435a-c4fb-3c32c3ffa23e",
        "colab": {
          "base_uri": "https://localhost:8080/"
        }
      },
      "outputs": [
        {
          "output_type": "stream",
          "name": "stdout",
          "text": [
            "Phylum\t\tCount\n",
            "Actinomycetes \t 17\n",
            "Proteobacteria \t 30\n",
            "Cyanobacteria \t 26\n",
            "Firmicutes \t 24\n",
            "Chloroflexi \t 28\n",
            "Acidobacteria \t 22\n",
            "Bacillus \t 34\n"
          ]
        }
      ],
      "source": [
        "# Name your final clean list of all phyla \"phyla_count\", then test it with this code block\n",
        "phyla = ['Actinomycetes', 'Proteobacteria', 'Cyanobacteria', 'Firmicutes', 'Chloroflexi', 'Acidobacteria', 'Bacillus']\n",
        "\n",
        "print(\"Phylum\\t\\tCount\")\n",
        "for p in phyla:\n",
        "    print(p, \"\\t\", all_phyla.count(p))\n",
        ""
      ]
    }
  ],
  "metadata": {
    "colab": {
      "provenance": []
    },
    "kernelspec": {
      "display_name": "Python 3",
      "name": "python3"
    },
    "language_info": {
      "codemirror_mode": {
        "name": "ipython",
        "version": 3
      },
      "file_extension": ".py",
      "mimetype": "text/x-python",
      "name": "python",
      "nbconvert_exporter": "python",
      "pygments_lexer": "ipython3",
      "version": "3.11.5"
    }
  },
  "nbformat": 4,
  "nbformat_minor": 0
}