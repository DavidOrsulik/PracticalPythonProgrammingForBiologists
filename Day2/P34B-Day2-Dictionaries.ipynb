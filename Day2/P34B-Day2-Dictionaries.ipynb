{
  "cells": [
    {
      "cell_type": "markdown",
      "metadata": {
        "id": "QfYvI-_yE10I"
      },
      "source": [
        "# Practical Python Programming for Biologists\n",
        "Author: Dr. Daniel Pass | www.CompassBioinformatics.com\n",
        "\n",
        "---"
      ]
    },
    {
      "cell_type": "markdown",
      "metadata": {
        "id": "rQ5nBszYVmZT"
      },
      "source": [
        "# Dictionaries\n",
        "\n",
        "A dictionary at first looks like a 2D list but is actually unique because all data is in unordered key-value pairs. They are particularly useful for finding the corresponding pair (like a real dictionary!) when you have one value for example:\n",
        "\n",
        "- ```geneID => sequence```\n",
        "- ```aminoAcid => frequency```\n",
        "- ```site => longitude/lattitude```\n",
        "\n",
        "This example dictionary has a frequency count of each base, where the first element in each pair is the \"key\" reference, and the second element is the \"value\".\n",
        "\n",
        "It's defined in the format of ```'key' : 'value'```, between braces ```{ }``` (curly brackets)"
      ]
    },
    {
      "cell_type": "code",
      "execution_count": 1,
      "metadata": {
        "colab": {
          "base_uri": "https://localhost:8080/"
        },
        "id": "rTmf-Cp8WHSi",
        "outputId": "e84998e7-b4a4-441e-fa9c-fb5f3a764df9"
      },
      "outputs": [
        {
          "output_type": "stream",
          "name": "stdout",
          "text": [
            "{'A': 101, 'T': 250, 'G': 125, 'C': 92}\n"
          ]
        }
      ],
      "source": [
        "# Create a dictionary of DNA base counts\n",
        "base_counts = {'A': 101, 'T': 250, 'G': 125, 'C': 92}\n",
        "print(base_counts)"
      ]
    },
    {
      "cell_type": "markdown",
      "metadata": {
        "id": "WH6S9f9g8zIH"
      },
      "source": [
        "We can use the square bracket method ```dictionary['key']``` to return the value of a dictionary key similar to using the index number for a list, however the .get() method is usually better because it handles missing data better. Note the difference:"
      ]
    },
    {
      "cell_type": "code",
      "execution_count": 2,
      "metadata": {
        "id": "BvMCAkXQ8zII",
        "outputId": "4c8f63fb-42e2-42b9-aa57-e18ad7942765",
        "colab": {
          "base_uri": "https://localhost:8080/"
        }
      },
      "outputs": [
        {
          "output_type": "stream",
          "name": "stdout",
          "text": [
            "Number of Thymine: 250\n"
          ]
        }
      ],
      "source": [
        "print(\"Number of Thymine:\",  base_counts['T'])"
      ]
    },
    {
      "cell_type": "code",
      "execution_count": 3,
      "metadata": {
        "id": "k9nVHSxX8zII",
        "outputId": "ad0fab00-71c0-4dfa-84dd-ddd667c4f6fa",
        "colab": {
          "base_uri": "https://localhost:8080/",
          "height": 141
        }
      },
      "outputs": [
        {
          "output_type": "error",
          "ename": "KeyError",
          "evalue": "'N'",
          "traceback": [
            "\u001b[0;31m---------------------------------------------------------------------------\u001b[0m",
            "\u001b[0;31mKeyError\u001b[0m                                  Traceback (most recent call last)",
            "\u001b[0;32m/tmp/ipython-input-1746410899.py\u001b[0m in \u001b[0;36m<cell line: 0>\u001b[0;34m()\u001b[0m\n\u001b[0;32m----> 1\u001b[0;31m \u001b[0mprint\u001b[0m\u001b[0;34m(\u001b[0m\u001b[0;34m\"Number of Unknowns:\"\u001b[0m\u001b[0;34m,\u001b[0m \u001b[0mbase_counts\u001b[0m\u001b[0;34m[\u001b[0m\u001b[0;34m'N'\u001b[0m\u001b[0;34m]\u001b[0m\u001b[0;34m)\u001b[0m\u001b[0;34m\u001b[0m\u001b[0;34m\u001b[0m\u001b[0m\n\u001b[0m",
            "\u001b[0;31mKeyError\u001b[0m: 'N'"
          ]
        }
      ],
      "source": [
        "#Here we search for a key that does not exist, causing a key error and causing the program to crash\n",
        "print(\"Number of Unknowns:\", base_counts['N'])"
      ]
    },
    {
      "cell_type": "code",
      "execution_count": 4,
      "metadata": {
        "id": "FoDnepf88zIJ",
        "outputId": "19cd9752-6897-444b-c2b0-d19124aeee44",
        "colab": {
          "base_uri": "https://localhost:8080/"
        }
      },
      "outputs": [
        {
          "output_type": "stream",
          "name": "stdout",
          "text": [
            "Number of Unknowns: None\n"
          ]
        }
      ],
      "source": [
        "print(\"Number of Unknowns:\", base_counts.get('N'))"
      ]
    },
    {
      "cell_type": "markdown",
      "metadata": {
        "id": "Kw433eRY8zIJ"
      },
      "source": [
        "First lets add some new pairs to the dictionary. This can be done two ways:"
      ]
    },
    {
      "cell_type": "code",
      "execution_count": null,
      "metadata": {
        "id": "Y7CCe9Qu8zIJ"
      },
      "outputs": [],
      "source": [
        "# Add a two new key-value pairs to the dictionary\n",
        "base_counts['N'] = 5\n",
        "#Here we use the update string method to add data into the dictionary\n",
        "base_counts.update({ 'MISSING' : 0 })\n",
        "\n",
        "print(base_counts)"
      ]
    },
    {
      "cell_type": "markdown",
      "metadata": {
        "id": "cw8OZ_CwWvxT"
      },
      "source": [
        "We can then access individual values based on their key just like looking them up in a dictionary, or modify/delete them:"
      ]
    },
    {
      "cell_type": "code",
      "execution_count": null,
      "metadata": {
        "id": "JMKJ30HtW07q"
      },
      "outputs": [],
      "source": [
        "base_counts = {'A': 101, 'T': 250, 'G': 125, 'C': 92, 'N': 5, 'MISSING': 0}\n",
        "\n",
        "# Print corresponding value (two methods)\n",
        "print(\"Number of Adenine:\", base_counts.get('A'))\n",
        "print(\"Number of Thymine:\", base_counts.get('T'))\n",
        "print(\"Number of Unknowns:\", base_counts.get('N'))\n",
        "print(base_counts)\n",
        "\n",
        "# Modify the value for a key\n",
        "base_counts['A'] = 65\n",
        "\n",
        "# Remove the 'MISSING' key-value pair from the dictionary\n",
        "base_counts.pop('MISSING')\n",
        "print(base_counts)"
      ]
    },
    {
      "cell_type": "code",
      "execution_count": null,
      "metadata": {
        "id": "NcU8nqPD8zIK"
      },
      "outputs": [],
      "source": [
        "# There is also the del statement\n",
        "del base_counts['T']\n",
        "print(base_counts)\n",
        "\n",
        "# Print corresponding value (two methods)\n",
        "print(\"Number of Adenine:\", base_counts.get('A'))\n",
        "print(\"Number of Thymine:\", base_counts.get('T'))\n",
        "print(\"Number of Unknowns:\", base_counts.get('N'))"
      ]
    },
    {
      "cell_type": "markdown",
      "metadata": {
        "id": "vCo1v6It8zIK"
      },
      "source": [
        "A useful set of methods are ```.keys()``` and ```.values()``` which return dict objects (just like when we made a range). They can be turned into a list using the ```list()``` function in the same way."
      ]
    },
    {
      "cell_type": "code",
      "execution_count": 5,
      "metadata": {
        "id": "PAv1TIRW8zIK",
        "outputId": "61f29c6b-5967-4704-f3e8-0d2aedfd4a3a",
        "colab": {
          "base_uri": "https://localhost:8080/"
        }
      },
      "outputs": [
        {
          "output_type": "stream",
          "name": "stdout",
          "text": [
            "dict_values([101, 250, 125, 92])\n",
            "dict_keys(['A', 'T', 'G', 'C'])\n"
          ]
        }
      ],
      "source": [
        "# Print just the values\n",
        "print(base_counts.values())\n",
        "\n",
        "# Print just the keys\n",
        "print(base_counts.keys())"
      ]
    },
    {
      "cell_type": "markdown",
      "metadata": {
        "id": "V_Ig2f5k8zIK"
      },
      "source": [
        "We can also use the ```.items()``` method to return key:value pairs as a list of tuples. We'll return to this when we know how to run through loops of data"
      ]
    },
    {
      "cell_type": "code",
      "execution_count": 6,
      "metadata": {
        "id": "beoVSxSO8zIK",
        "outputId": "f8582a4f-ad0a-4800-d410-3f08a2f46e45",
        "colab": {
          "base_uri": "https://localhost:8080/"
        }
      },
      "outputs": [
        {
          "output_type": "stream",
          "name": "stdout",
          "text": [
            "{'A': 101, 'T': 250, 'G': 125, 'C': 92}\n",
            "dict_items([('A', 101), ('T', 250), ('G', 125), ('C', 92)])\n"
          ]
        }
      ],
      "source": [
        "# Print just the values\n",
        "print(base_counts)\n",
        "print(base_counts.items())"
      ]
    },
    {
      "cell_type": "markdown",
      "metadata": {
        "id": "riAkYueB8zIK"
      },
      "source": [
        "### Dictionary exercise\n",
        "\n",
        "1. Create a dictionary named insects where keys are the common short names of insects and values are their Latin names using this data.\n",
        "- honeybee  - Apis mellifera\n",
        "- fruitfly  - Drosophila melanogaster\n",
        "- butterfly - Papilio machaon\n",
        "- ladybird  - Coccinella septempunctata\n",
        "- fireant   - Solenopsis invicta\n",
        "\n",
        "2. Add a new insect to the insects dictionary with Mosquito & Culex pipiens\n",
        "3. Actually we have incorrectly identified the bee! Modify the honeybee to Apis cerana\n",
        "4. Print the list of latin names as a dict_list, and how many sepecies are in the dictionary"
      ]
    },
    {
      "cell_type": "code",
      "execution_count": 10,
      "metadata": {
        "id": "rYlm6PYm8zIK",
        "outputId": "b991931f-6726-46e7-a924-48f8e9f1febd",
        "colab": {
          "base_uri": "https://localhost:8080/"
        }
      },
      "outputs": [
        {
          "output_type": "stream",
          "name": "stdout",
          "text": [
            "dict_values(['Apis cerana', 'Drosophila melanogaster', 'Papilio machaon', 'Coccinella septempunctata', 'Solenopsis invicta', 'Culex pipiens'])\n"
          ]
        }
      ],
      "source": [
        "# Code goes here\n",
        "animals = {\"honeybee\" : \"Apis mellifera\",\n",
        "           \"fruitfly\" : \"Drosophila melanogaster\",\n",
        "           \"butterfly\" : \"Papilio machaon\",\n",
        "           \"ladybird\" : \"Coccinella septempunctata\",\n",
        "           \"fireant\" : \"Solenopsis invicta\"}\n",
        "#Add new key value pair\n",
        "animals.update({\"mosquito\" : \"Culex pipiens\"})\n",
        "\n",
        "#Correct honeybee\n",
        "animals[\"honeybee\"] = \"Apis cerana\"\n",
        "\n",
        "#Print the list of latin names as a dict_list, and how many sepecies are in the dictionary\n",
        "\n",
        "dict_list = animals.values()\n",
        "print(dict_list)\n",
        "\n"
      ]
    },
    {
      "cell_type": "markdown",
      "metadata": {
        "id": "KsVBxlMZXqI7"
      },
      "source": [
        "---\n",
        "#### Dictionary Example\n",
        "Dictionaries are really important and powerful. Lets look at another example where we can attach specific information to geneIDs, and use the ```.get``` method to search the dictionary.\n",
        "\n",
        "Here we can combine a gene sequence dictionary with our 2D list exercise from earlier"
      ]
    },
    {
      "cell_type": "code",
      "execution_count": 13,
      "metadata": {
        "colab": {
          "base_uri": "https://localhost:8080/"
        },
        "id": "O8UFUTAvXucr",
        "outputId": "4c7652bf-d02e-41d4-9e4d-1f5ffb0d3229"
      },
      "outputs": [
        {
          "output_type": "stream",
          "name": "stdout",
          "text": [
            "TP53\n",
            "0.4\n"
          ]
        }
      ],
      "source": [
        "## The data\n",
        "\n",
        "# Dictionary of gene names and sequences\n",
        "gene_dict = {'BRCA1': 'ATGTTGTCATCGTTGAGCTTTGCTTCCT',\n",
        "             'TP53': 'ATGGAGGAGCCGCAGTCAGATC',\n",
        "             'EGFR': 'ATGACCATCCAAGATGATGGTGTC',\n",
        "             'KRAS': 'ATGACTGAATATAAACTTGTGGTAG',\n",
        "             'BRAF': 'ATGGTCCAGCTTGGACCCACTCC',\n",
        "             'ALK': 'ATGAAGGAGCCCTCAGATTTCTTG',\n",
        "             'RET': 'ATGGGTGGGTTGTCGGAAGATCTT',\n",
        "             'ROS1': 'ATGAGCCACCCAGGTCCCTGTAGT',\n",
        "             'MET1': 'ATGGCTTCAAGCTGTTGTCGTGAAGA'}\n",
        "\n",
        "# gene confidence values\n",
        "gene_confs = [[0.92, 'MET1', 2205], [0.82, 'EGFR', 1567], [0.93, 'KRAS', 6523], [0.4, 'TP53', 5002], [0.94, 'ROS5', 1999], [0.87, 'BRCA1', 2323]]\n",
        "\n",
        "# sort and get lowest conf gene ID\n",
        "gene_confs.sort()\n",
        "lowest_gene_conf = gene_confs[0][0]\n",
        "lowest_gene_ID = gene_confs[0][1]\n",
        "\n",
        "print(lowest_gene_ID)\n",
        "print(lowest_gene_conf)"
      ]
    },
    {
      "cell_type": "markdown",
      "metadata": {
        "id": "8AHYgtVQ8zIL"
      },
      "source": [
        "We don't need to type the exact gene name. we can use the variable as the key:"
      ]
    },
    {
      "cell_type": "code",
      "execution_count": 14,
      "metadata": {
        "id": "c_u2fWdB8zIL",
        "outputId": "4ef545be-3720-42a6-ffe4-6985b0f3638c",
        "colab": {
          "base_uri": "https://localhost:8080/"
        }
      },
      "outputs": [
        {
          "output_type": "stream",
          "name": "stdout",
          "text": [
            "ATGGAGGAGCCGCAGTCAGATC\n",
            "Gene sequence for TP53 (Confidence value: 0.4) is: ATGGAGGAGCCGCAGTCAGATC\n"
          ]
        }
      ],
      "source": [
        "# Search dictionary keys for that ID\n",
        "print(gene_dict.get(lowest_gene_ID))\n",
        "\n",
        "# easier to read!\n",
        "print(\"Gene sequence for\", lowest_gene_ID, \"(Confidence value:\", str(lowest_gene_conf) + \") is:\",  gene_dict.get(lowest_gene_ID))"
      ]
    },
    {
      "cell_type": "markdown",
      "metadata": {
        "id": "bxllLmBI8zIL"
      },
      "source": [
        "Lets continue our example from 2D lists and remove the three lowest genes from our dictionary:"
      ]
    },
    {
      "cell_type": "code",
      "execution_count": 15,
      "metadata": {
        "colab": {
          "base_uri": "https://localhost:8080/"
        },
        "id": "jA5MCmWZTGIp",
        "outputId": "dc648265-14c2-4457-98e6-55289a9fd840"
      },
      "outputs": [
        {
          "output_type": "stream",
          "name": "stdout",
          "text": [
            "gene_dict contains 9 genes\n",
            "gene_dict contains 6 genes\n"
          ]
        }
      ],
      "source": [
        "print(\"gene_dict contains\", len(gene_dict), \"genes\")\n",
        "gene_dict.pop(\"EGFR\")\n",
        "gene_dict.pop(\"TP53\")\n",
        "gene_dict.pop(\"BRCA1\")\n",
        "print(\"gene_dict contains\", len(gene_dict), \"genes\")"
      ]
    },
    {
      "cell_type": "markdown",
      "metadata": {
        "id": "2-4AuHdaT1Xk"
      },
      "source": [
        "Actually, even better idea! Instead of just throwing the data out, lets put the DNA sequences of the lowest three genes from the dictionary into a new list called ```bad_genes``` before they get discarded.\n",
        "\n",
        "Note, what happens if you run this code immediately? Read the error and identify what is wrong."
      ]
    },
    {
      "cell_type": "code",
      "execution_count": 16,
      "metadata": {
        "colab": {
          "base_uri": "https://localhost:8080/",
          "height": 228
        },
        "id": "2JQbjR594Ob2",
        "outputId": "5652f17f-2044-4de7-effd-7c8748aef4b6"
      },
      "outputs": [
        {
          "output_type": "stream",
          "name": "stdout",
          "text": [
            "gene_dict contains 6 genes\n"
          ]
        },
        {
          "output_type": "error",
          "ename": "KeyError",
          "evalue": "'EGFR'",
          "traceback": [
            "\u001b[0;31m---------------------------------------------------------------------------\u001b[0m",
            "\u001b[0;31mKeyError\u001b[0m                                  Traceback (most recent call last)",
            "\u001b[0;32m/tmp/ipython-input-206276906.py\u001b[0m in \u001b[0;36m<cell line: 0>\u001b[0;34m()\u001b[0m\n\u001b[1;32m      2\u001b[0m \u001b[0;34m\u001b[0m\u001b[0m\n\u001b[1;32m      3\u001b[0m \u001b[0mprint\u001b[0m\u001b[0;34m(\u001b[0m\u001b[0;34m\"gene_dict contains\"\u001b[0m\u001b[0;34m,\u001b[0m \u001b[0mlen\u001b[0m\u001b[0;34m(\u001b[0m\u001b[0mgene_dict\u001b[0m\u001b[0;34m)\u001b[0m\u001b[0;34m,\u001b[0m \u001b[0;34m\"genes\"\u001b[0m\u001b[0;34m)\u001b[0m\u001b[0;34m\u001b[0m\u001b[0;34m\u001b[0m\u001b[0m\n\u001b[0;32m----> 4\u001b[0;31m \u001b[0mbad_genes\u001b[0m\u001b[0;34m.\u001b[0m\u001b[0mappend\u001b[0m\u001b[0;34m(\u001b[0m\u001b[0mgene_dict\u001b[0m\u001b[0;34m.\u001b[0m\u001b[0mpop\u001b[0m\u001b[0;34m(\u001b[0m\u001b[0;34m\"EGFR\"\u001b[0m\u001b[0;34m)\u001b[0m\u001b[0;34m)\u001b[0m\u001b[0;34m\u001b[0m\u001b[0;34m\u001b[0m\u001b[0m\n\u001b[0m\u001b[1;32m      5\u001b[0m \u001b[0mbad_genes\u001b[0m\u001b[0;34m.\u001b[0m\u001b[0mappend\u001b[0m\u001b[0;34m(\u001b[0m\u001b[0mgene_dict\u001b[0m\u001b[0;34m.\u001b[0m\u001b[0mpop\u001b[0m\u001b[0;34m(\u001b[0m\u001b[0;34m\"TP53\"\u001b[0m\u001b[0;34m)\u001b[0m\u001b[0;34m)\u001b[0m\u001b[0;34m\u001b[0m\u001b[0;34m\u001b[0m\u001b[0m\n\u001b[1;32m      6\u001b[0m \u001b[0mbad_genes\u001b[0m\u001b[0;34m.\u001b[0m\u001b[0mappend\u001b[0m\u001b[0;34m(\u001b[0m\u001b[0mgene_dict\u001b[0m\u001b[0;34m.\u001b[0m\u001b[0mpop\u001b[0m\u001b[0;34m(\u001b[0m\u001b[0;34m\"BRCA1\"\u001b[0m\u001b[0;34m)\u001b[0m\u001b[0;34m)\u001b[0m\u001b[0;34m\u001b[0m\u001b[0;34m\u001b[0m\u001b[0m\n",
            "\u001b[0;31mKeyError\u001b[0m: 'EGFR'"
          ]
        }
      ],
      "source": [
        "bad_genes = []\n",
        "\n",
        "print(\"gene_dict contains\", len(gene_dict), \"genes\")\n",
        "bad_genes.append(gene_dict.pop(\"EGFR\"))\n",
        "bad_genes.append(gene_dict.pop(\"TP53\"))\n",
        "bad_genes.append(gene_dict.pop(\"BRCA1\"))\n",
        "print(\"gene_dict contains\", len(gene_dict), \"genes\")"
      ]
    },
    {
      "cell_type": "code",
      "execution_count": 18,
      "metadata": {
        "id": "vfJfdHKn4SCZ",
        "outputId": "af2c691a-3950-4035-c903-7282edb067dd",
        "colab": {
          "base_uri": "https://localhost:8080/"
        }
      },
      "outputs": [
        {
          "output_type": "stream",
          "name": "stdout",
          "text": [
            "[]\n",
            "{'KRAS': 'ATGACTGAATATAAACTTGTGGTAG', 'BRAF': 'ATGGTCCAGCTTGGACCCACTCC', 'ALK': 'ATGAAGGAGCCCTCAGATTTCTTG', 'RET': 'ATGGGTGGGTTGTCGGAAGATCTT', 'ROS1': 'ATGAGCCACCCAGGTCCCTGTAGT', 'MET': 'ATGGCTTCAAGCTGTTGTCGTGAAGA'}\n"
          ]
        }
      ],
      "source": [
        "print(bad_genes)\n",
        "print(gene_dict)"
      ]
    },
    {
      "cell_type": "markdown",
      "metadata": {
        "id": "QKAudoMCYk2t"
      },
      "source": [
        "Dictionaries and lists are powerful ways to handle data and often involve going between the two. There are also lots of powerful methods to search throughnot just the keys, but also the values to find relevant keys which can be very useful but first we need to learn a bit about loops and conditionals!"
      ]
    },
    {
      "cell_type": "markdown",
      "metadata": {
        "id": "xKbU1nRZkgP5"
      },
      "source": [
        "## Exercises\n",
        "\n",
        "1. Create a dictionary of bacteria and confluence values (growth) using the data:\n",
        "\n",
        "```\n",
        "[\"E. coli\", \"S. aureus\", \"P. aeruginosa\", \"K. pneumoniae\", \"A. baumannii\"]\n",
        "[60, 82, 75, 91, 70]\n",
        "```\n",
        "2. Print the confluence value of *K. pneumoniae* from the dictionary\n",
        "3. A function we haven't used yet is ```sum()```, but it works just like ```len()```. Use both of these to calculate the average confluence of all the samples in the dictionary (what's the easiest way to get all the values?)\n",
        "4. Oops! We just found another sample! Add ```{L. Beijerinick : 65}``` to the dictionary.\n",
        "5. Print the species name with the highest growth."
      ]
    },
    {
      "cell_type": "code",
      "execution_count": null,
      "metadata": {
        "id": "8JOxai9ZlReC"
      },
      "outputs": [],
      "source": [
        "# Format reminder\n",
        "bacteria_dict = {\"E. coli\": 60,}"
      ]
    }
  ],
  "metadata": {
    "colab": {
      "provenance": [],
      "toc_visible": true
    },
    "kernelspec": {
      "display_name": "Python 3",
      "name": "python3"
    },
    "language_info": {
      "codemirror_mode": {
        "name": "ipython",
        "version": 3
      },
      "file_extension": ".py",
      "mimetype": "text/x-python",
      "name": "python",
      "nbconvert_exporter": "python",
      "pygments_lexer": "ipython3",
      "version": "3.11.5"
    }
  },
  "nbformat": 4,
  "nbformat_minor": 0
}